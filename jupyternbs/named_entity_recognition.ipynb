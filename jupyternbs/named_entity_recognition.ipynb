{
 "cells": [
  {
   "cell_type": "code",
   "execution_count": 2,
   "metadata": {},
   "outputs": [],
   "source": [
    "import json\n",
    "\n",
    "with open('knowledge_base.json', 'r') as f:\n",
    "    domain_knowledge = json.load(f)\n",
    "\n",
    "competitors = domain_knowledge[\"competitors\"]\n",
    "features = domain_knowledge[\"features\"]\n",
    "pricing_keywords = domain_knowledge[\"pricing_keywords\"]\n",
    "security_concerns = domain_knowledge[\"security_concerns\"]\n",
    "\n",
    "# Function to extract entities using dictionary lookup\n",
    "def dictionary_lookup(text):\n",
    "    extracted_entities = {\n",
    "        \"competitors\": [],\n",
    "        \"features\": [],\n",
    "        \"pricing_keywords\": [],\n",
    "        \"security_concerns\": []\n",
    "    }\n",
    "    \n",
    "    # Check for competitors\n",
    "    for competitor in competitors:\n",
    "        if competitor.lower() in text.lower():\n",
    "            extracted_entities[\"competitors\"].append(competitor)\n",
    "    \n",
    "    # Check for features\n",
    "    for feature in features:\n",
    "        if feature.lower() in text.lower():\n",
    "            extracted_entities[\"features\"].append(feature)\n",
    "    \n",
    "    # Check for pricing keywords\n",
    "    for keyword in pricing_keywords:\n",
    "        if keyword.lower() in text.lower():\n",
    "            extracted_entities[\"pricing_keywords\"].append(keyword)\n",
    "    \n",
    "    # Check for security keywords\n",
    "    for keyword in security_concerns:\n",
    "        if keyword.lower() in text.lower():\n",
    "            extracted_entities[\"security_concerns\"].append(keyword)\n",
    "    \n",
    "    return extracted_entities"
   ]
  },
  {
   "cell_type": "code",
   "execution_count": 3,
   "metadata": {},
   "outputs": [],
   "source": [
    "import spacy\n",
    "\n",
    "nlp = spacy.load(\"en_core_web_sm\")\n",
    "\n",
    "def spacy_ner_extraction(text):\n",
    "    doc = nlp(text)\n",
    "    ner_entities = {ent.label_: [] for ent in doc.ents}\n",
    "    \n",
    "    # Extract named entities (person names, organizations, etc.)\n",
    "    for ent in doc.ents:\n",
    "            ner_entities[ent.label_].append(ent.text)\n",
    "    \n",
    "    return ner_entities\n"
   ]
  },
  {
   "cell_type": "code",
   "execution_count": 4,
   "metadata": {},
   "outputs": [],
   "source": [
    "def combined_entity_extraction(text):\n",
    "    dict_ = dictionary_lookup(text)\n",
    "    \n",
    "    ner_ = spacy_ner_extraction(text)\n",
    "    \n",
    "    return {\n",
    "        \"dict_\":dict_,\n",
    "        \"ner_\":ner_\n",
    "    }"
   ]
  },
  {
   "cell_type": "code",
   "execution_count": 5,
   "metadata": {},
   "outputs": [
    {
     "name": "stdout",
     "output_type": "stream",
     "text": [
      "Text Snippet: CompetitorX has a better pricing model, but we are more secure.\n",
      "Extracted Entities: {'dict_': {'competitors': ['CompetitorX'], 'features': [], 'pricing_keywords': ['pricing model'], 'security_concerns': []}, 'ner_': {}}\n",
      "--------------------------------------------------\n",
      "Text Snippet: Our service is cheaper than CompetitorY, and it comes with an advanced AI engine.\n",
      "Extracted Entities: {'dict_': {'competitors': ['CompetitorY'], 'features': ['AI engine'], 'pricing_keywords': [], 'security_concerns': []}, 'ner_': {'GPE': ['AI']}}\n",
      "--------------------------------------------------\n",
      "Text Snippet: Are you SOC2 certified? We need to ensure data handling complies with security standards.\n",
      "Extracted Entities: {'dict_': {'competitors': [], 'features': [], 'pricing_keywords': [], 'security_concerns': ['SOC2 certified', 'data handling']}, 'ner_': {}}\n",
      "--------------------------------------------------\n"
     ]
    }
   ],
   "source": [
    "test_snippets = [\n",
    "    \"CompetitorX has a better pricing model, but we are more secure.\",\n",
    "    \"Our service is cheaper than CompetitorY, and it comes with an advanced AI engine.\",\n",
    "    \"Are you SOC2 certified? We need to ensure data handling complies with security standards.\",\n",
    "]\n",
    "\n",
    "# Extract entities for each snippet\n",
    "for snippet in test_snippets:\n",
    "    entities = combined_entity_extraction(snippet)\n",
    "    print(f\"Text Snippet: {snippet}\")\n",
    "    print(f\"Extracted Entities: {entities}\")\n",
    "    print(\"-\" * 50)"
   ]
  },
  {
   "cell_type": "code",
   "execution_count": 6,
   "metadata": {},
   "outputs": [],
   "source": [
    "nlp.to_disk(\"ner_model_spacy\")"
   ]
  },
  {
   "cell_type": "code",
   "execution_count": null,
   "metadata": {},
   "outputs": [],
   "source": []
  }
 ],
 "metadata": {
  "kernelspec": {
   "display_name": "Python 3",
   "language": "python",
   "name": "python3"
  },
  "language_info": {
   "codemirror_mode": {
    "name": "ipython",
    "version": 3
   },
   "file_extension": ".py",
   "mimetype": "text/x-python",
   "name": "python",
   "nbconvert_exporter": "python",
   "pygments_lexer": "ipython3",
   "version": "3.11.9"
  }
 },
 "nbformat": 4,
 "nbformat_minor": 2
}
